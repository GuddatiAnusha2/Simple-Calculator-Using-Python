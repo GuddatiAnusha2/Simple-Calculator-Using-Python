{
 "cells": [
  {
   "cell_type": "code",
   "execution_count": 1,
   "id": "05b1ca87",
   "metadata": {},
   "outputs": [],
   "source": [
    "class calc:\n",
    "    def _init_(self):\n",
    "        self.value1=0\n",
    "        self.value2=0\n",
    "    def get_input(self):\n",
    "        while True:\n",
    "            try:\n",
    "                self.value1=float(input(\"Enter your first number\"))\n",
    "                self.value2=float(input(\"Enter your second number\"))\n",
    "                return\n",
    "            except ValueError:\n",
    "                print(\"enter valid numbers\")\n",
    "    def add(self):\n",
    "        return self.value1+self.value2\n",
    "    def sub(self):\n",
    "        return self.value1-self.value2\n",
    "    def mul(self):\n",
    "        return self.value1*self.value2\n",
    "    def div(self):\n",
    "        try:\n",
    "            return self.value1/self.value2\n",
    "        except ZeroDivisionError:\n",
    "            return \"cannot be divided by 0\"    "
   ]
  },
  {
   "cell_type": "code",
   "execution_count": 3,
   "id": "dca80f36",
   "metadata": {},
   "outputs": [
    {
     "name": "stdout",
     "output_type": "stream",
     "text": [
      "Select an option:\n",
      "1 for addition\n",
      "2 for subtraction\n",
      "3 for multiplication\n",
      "4 for division\n",
      "Enter your option: 1\n",
      "Enter your first number1\n",
      "Enter your second number1\n",
      "Result = 2.0\n",
      "Do you want to perform another calculation? (yes/no): yes\n",
      "Select an option:\n",
      "1 for addition\n",
      "2 for subtraction\n",
      "3 for multiplication\n",
      "4 for division\n",
      "Enter your option: 2\n",
      "Enter your first number2\n",
      "Enter your second number3\n",
      "Result = -1.0\n",
      "Do you want to perform another calculation? (yes/no): no\n",
      "Exiting the calculator. Goodbye!\n"
     ]
    }
   ],
   "source": [
    "# Create an instance of the Calculator class\n",
    "cal = calc()\n",
    "\n",
    "# Infinite loop for calculator operations\n",
    "while True:\n",
    "    print(\"Select an option:\")\n",
    "    print(\"1 for addition\")\n",
    "    print(\"2 for subtraction\")\n",
    "    print(\"3 for multiplication\")\n",
    "    print(\"4 for division\")\n",
    "    \n",
    "    # Get the user's option\n",
    "    op = input(\"Enter your option: \")\n",
    "    \n",
    "    if op in ('1', '2', '3', '4'):\n",
    "        cal.get_input()  # Get user input for the two numbers\n",
    "        \n",
    "        # Perform the operation based on the user's option\n",
    "        if op == '1':\n",
    "            result = cal.add()\n",
    "            print(\"Result =\", result)\n",
    "        elif op == '2':\n",
    "            result = cal.sub()\n",
    "            print(\"Result =\", result)\n",
    "        elif op == '3':\n",
    "            result = cal.mul()\n",
    "            print(\"Result =\", result)\n",
    "        elif op == '4':\n",
    "            result = cal.div()\n",
    "            print(\"Result =\", result)\n",
    "    else:\n",
    "        print(\"Invalid option. Please select a valid option.\")\n",
    "\n",
    "    # Ask if the user wants to perform another calculation\n",
    "    another = input(\"Do you want to perform another calculation? (yes/no): \").lower()\n",
    "    if another != 'yes':\n",
    "        print(\"Exiting the calculator. Goodbye!\")\n",
    "        break"
   ]
  },
  {
   "cell_type": "code",
   "execution_count": null,
   "id": "c33398a9",
   "metadata": {},
   "outputs": [],
   "source": []
  },
  {
   "cell_type": "code",
   "execution_count": null,
   "id": "a4fce93b",
   "metadata": {},
   "outputs": [],
   "source": []
  },
  {
   "cell_type": "code",
   "execution_count": null,
   "id": "d5be84b5",
   "metadata": {},
   "outputs": [],
   "source": []
  },
  {
   "cell_type": "code",
   "execution_count": null,
   "id": "d27882ef",
   "metadata": {},
   "outputs": [],
   "source": []
  },
  {
   "cell_type": "code",
   "execution_count": null,
   "id": "af17e48e",
   "metadata": {},
   "outputs": [],
   "source": []
  },
  {
   "cell_type": "code",
   "execution_count": null,
   "id": "56dc49d7",
   "metadata": {},
   "outputs": [],
   "source": []
  },
  {
   "cell_type": "code",
   "execution_count": null,
   "id": "5b8044b1",
   "metadata": {},
   "outputs": [],
   "source": []
  },
  {
   "cell_type": "code",
   "execution_count": null,
   "id": "c740fd26",
   "metadata": {},
   "outputs": [],
   "source": []
  },
  {
   "cell_type": "code",
   "execution_count": null,
   "id": "ce3b925c",
   "metadata": {},
   "outputs": [],
   "source": []
  },
  {
   "cell_type": "code",
   "execution_count": null,
   "id": "93f77dea",
   "metadata": {},
   "outputs": [],
   "source": []
  },
  {
   "cell_type": "code",
   "execution_count": null,
   "id": "c0d1f1dd",
   "metadata": {},
   "outputs": [],
   "source": []
  },
  {
   "cell_type": "code",
   "execution_count": null,
   "id": "d1c7ed33",
   "metadata": {},
   "outputs": [],
   "source": []
  },
  {
   "cell_type": "code",
   "execution_count": null,
   "id": "402a9f2f",
   "metadata": {},
   "outputs": [],
   "source": []
  },
  {
   "cell_type": "code",
   "execution_count": null,
   "id": "7369ca7d",
   "metadata": {},
   "outputs": [],
   "source": []
  },
  {
   "cell_type": "code",
   "execution_count": null,
   "id": "2ede68e8",
   "metadata": {},
   "outputs": [],
   "source": []
  },
  {
   "cell_type": "code",
   "execution_count": null,
   "id": "3d70ba29",
   "metadata": {},
   "outputs": [],
   "source": []
  }
 ],
 "metadata": {
  "kernelspec": {
   "display_name": "Python 3 (ipykernel)",
   "language": "python",
   "name": "python3"
  },
  "language_info": {
   "codemirror_mode": {
    "name": "ipython",
    "version": 3
   },
   "file_extension": ".py",
   "mimetype": "text/x-python",
   "name": "python",
   "nbconvert_exporter": "python",
   "pygments_lexer": "ipython3",
   "version": "3.10.9"
  }
 },
 "nbformat": 4,
 "nbformat_minor": 5
}
